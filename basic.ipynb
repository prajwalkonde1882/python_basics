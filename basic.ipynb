{
 "cells": [
  {
   "cell_type": "code",
   "execution_count": 2,
   "id": "25fe1aef-88db-4e6d-b88d-cc16e8c1b687",
   "metadata": {
    "tags": []
   },
   "outputs": [],
   "source": [
    "\n"
   ]
  },
  {
   "cell_type": "code",
   "execution_count": null,
   "id": "b834735e-35c8-47d9-8d7e-360393abd45b",
   "metadata": {
    "tags": []
   },
   "outputs": [],
   "source": []
  },
  {
   "cell_type": "code",
   "execution_count": 23,
   "id": "4512ae06-2a73-48de-bef0-2a8f879c95e9",
   "metadata": {
    "tags": []
   },
   "outputs": [
    {
     "name": "stdout",
     "output_type": "stream",
     "text": [
      "After swapping:\n",
      "x = 10\n",
      "y = 5\n"
     ]
    }
   ],
   "source": [
    "#swap the value of x and y\n",
    "x = 5\n",
    "y = 10\n",
    "\n",
    "x, y = y, x\n",
    "\n",
    "print(\"After swapping:\")\n",
    "print(\"x =\", x)\n",
    "print(\"y =\", y)\n"
   ]
  },
  {
   "cell_type": "code",
   "execution_count": 8,
   "id": "f28c316b-5e96-46e1-a308-98c21c422a8d",
   "metadata": {
    "tags": []
   },
   "outputs": [
    {
     "name": "stdout",
     "output_type": "stream",
     "text": [
      "200\n"
     ]
    }
   ],
   "source": [
    "#area of rectangle\n",
    "l=10\n",
    "w=20\n",
    "area_of_rectangle = l*w\n",
    "print(area_of_rectangle)"
   ]
  },
  {
   "cell_type": "code",
   "execution_count": 11,
   "id": "7259c733-34e4-4eba-9e4b-0e4e32f4a3a4",
   "metadata": {
    "tags": []
   },
   "outputs": [
    {
     "name": "stdout",
     "output_type": "stream",
     "text": [
      "-16.666666666666668\n"
     ]
    }
   ],
   "source": [
    "#celsius to fahrenheit\n",
    "c=2\n",
    "f=(2-32)*5/9\n",
    "print(f)"
   ]
  },
  {
   "cell_type": "code",
   "execution_count": 12,
   "id": "18677e3f-dc5c-430a-88e3-1bd9ccfe081d",
   "metadata": {
    "tags": []
   },
   "outputs": [
    {
     "name": "stdout",
     "output_type": "stream",
     "text": [
      "22\n"
     ]
    }
   ],
   "source": [
    "#length of string\n",
    "str='I like to code with pw'\n",
    "print(len(str))"
   ]
  },
  {
   "cell_type": "code",
   "execution_count": 13,
   "id": "e121df66-5d02-4ccb-93b8-44b40598cef2",
   "metadata": {
    "tags": []
   },
   "outputs": [
    {
     "name": "stdout",
     "output_type": "stream",
     "text": [
      "wp htiw edoc ot ekil I\n"
     ]
    }
   ],
   "source": [
    "#reverse order of character\n",
    "str1='I like to code with pw'\n",
    "rvs_string= str[ : :-1]\n",
    "print(rvs_string)"
   ]
  },
  {
   "cell_type": "code",
   "execution_count": 15,
   "id": "07eb9c59-7e56-4eb1-b67c-30b83dfd3dfa",
   "metadata": {
    "tags": []
   },
   "outputs": [
    {
     "name": "stdin",
     "output_type": "stream",
     "text": [
      " refer\n"
     ]
    },
    {
     "name": "stdout",
     "output_type": "stream",
     "text": [
      "it is palindrom\n"
     ]
    }
   ],
   "source": [
    "#check the given string is palindrom or not\n",
    "str2=input()\n",
    "str3= str2[ : :-1]\n",
    "if str2==str3:\n",
    "    print(\"it is palindrom\")\n",
    "else:\n",
    "    print(\"it is not palindrom\")"
   ]
  },
  {
   "cell_type": "code",
   "execution_count": 16,
   "id": "ea727381-f4d8-44ec-839f-2f2b6545b3d7",
   "metadata": {
    "tags": []
   },
   "outputs": [
    {
     "name": "stdin",
     "output_type": "stream",
     "text": [
      " Chatrapati Shivaji Maharaj was very intelligent and strong\n"
     ]
    },
    {
     "name": "stdout",
     "output_type": "stream",
     "text": [
      "ChatrapatiShivajiMaharajwasveryintelligentandstrong\n"
     ]
    }
   ],
   "source": [
    "#remove spaces in string\n",
    "str4=input()\n",
    "str5= str4.replace(\" \", \"\")\n",
    "print(str5)"
   ]
  },
  {
   "cell_type": "code",
   "execution_count": 22,
   "id": "7592f21a-90a2-4c60-a7f3-23ec977eef2f",
   "metadata": {
    "tags": []
   },
   "outputs": [
    {
     "name": "stdin",
     "output_type": "stream",
     "text": [
      "Enter a sentence:  Find number of vowels\n"
     ]
    },
    {
     "name": "stdout",
     "output_type": "stream",
     "text": [
      "Number of vowels in the sentence: 6\n"
     ]
    }
   ],
   "source": [
    "#count the number of vowels\n",
    "def count_vowels(input_string):\n",
    "    input_string = input_string.lower()\n",
    "    vowel_count = 0\n",
    "    for char in input_string:\n",
    "        if char in \"aeiou\":\n",
    "            vowel_count += 1\n",
    "    return vowel_count\n",
    "input_sentence = input(\"Enter a sentence: \")\n",
    "vowel_count = count_vowels(input_sentence)\n",
    "print(f\"Number of vowels in the sentence: {vowel_count}\")"
   ]
  },
  {
   "cell_type": "code",
   "execution_count": null,
   "id": "90254b62-8fa3-4fad-aae7-d3881e1eb396",
   "metadata": {},
   "outputs": [],
   "source": []
  }
 ],
 "metadata": {
  "kernelspec": {
   "display_name": "Python 3 (ipykernel)",
   "language": "python",
   "name": "python3"
  },
  "language_info": {
   "codemirror_mode": {
    "name": "ipython",
    "version": 3
   },
   "file_extension": ".py",
   "mimetype": "text/x-python",
   "name": "python",
   "nbconvert_exporter": "python",
   "pygments_lexer": "ipython3",
   "version": "3.11.4"
  }
 },
 "nbformat": 4,
 "nbformat_minor": 5
}
